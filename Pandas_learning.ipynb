{
  "nbformat": 4,
  "nbformat_minor": 0,
  "metadata": {
    "colab": {
      "provenance": [],
      "authorship_tag": "ABX9TyNt/QKl/9GW1Z4jjBcU+n69",
      "include_colab_link": true
    },
    "kernelspec": {
      "name": "python3",
      "display_name": "Python 3"
    },
    "language_info": {
      "name": "python"
    }
  },
  "cells": [
    {
      "cell_type": "markdown",
      "metadata": {
        "id": "view-in-github",
        "colab_type": "text"
      },
      "source": [
        "<a href=\"https://colab.research.google.com/github/ErrrMAK/5bukv/blob/master/Pandas_learning.ipynb\" target=\"_parent\"><img src=\"https://colab.research.google.com/assets/colab-badge.svg\" alt=\"Open In Colab\"/></a>"
      ]
    },
    {
      "cell_type": "code",
      "execution_count": 1,
      "metadata": {
        "id": "3JZ4l_mQcDm_"
      },
      "outputs": [],
      "source": [
        "import pandas as pd\n",
        "import numpy as np\n",
        "from scipy import  stats\n",
        "import seaborn as sns\n",
        "import matplotlib.pyplot as plt"
      ]
    },
    {
      "cell_type": "code",
      "source": [
        "plt.style.use('ggplot')\n",
        "%matplotlib inline"
      ],
      "metadata": {
        "id": "zx73bUfouxdJ"
      },
      "execution_count": 2,
      "outputs": []
    },
    {
      "cell_type": "code",
      "source": [
        "n_st = 70\n",
        "m_st = 25\n",
        "\n",
        "n_lan = 38\n",
        "m_lan = 7\n",
        "\n",
        "n_gr = 41\n",
        "m_gr = 12\n",
        "\n",
        "n_nw = 105\n",
        "m_nw = 41\n",
        "\n",
        "alpha = 0.05\n"
      ],
      "metadata": {
        "id": "oc_7s1f31E0G"
      },
      "execution_count": 3,
      "outputs": []
    },
    {
      "cell_type": "code",
      "source": [
        "m_st/n_st, m_lan/n_lan, m_gr/n_gr, m_nw/n_nw"
      ],
      "metadata": {
        "colab": {
          "base_uri": "https://localhost:8080/"
        },
        "id": "0PM9fXE7_f6V",
        "outputId": "b707a1c0-9fdc-4bc9-a2f4-653e1112cc2e"
      },
      "execution_count": 4,
      "outputs": [
        {
          "output_type": "execute_result",
          "data": {
            "text/plain": [
              "(0.35714285714285715,\n",
              " 0.18421052631578946,\n",
              " 0.2926829268292683,\n",
              " 0.3904761904761905)"
            ]
          },
          "metadata": {},
          "execution_count": 4
        }
      ]
    },
    {
      "cell_type": "code",
      "source": [
        "from statsmodels.stats.proportion import proportions_ztest\n",
        "\n",
        "_, p1 = proportions_ztest((m_st, m_lan),\n",
        "                          (n_st, n_lan),\n",
        "                          value=0,\n",
        "                          alternative='larger')\n",
        "_, p2 = proportions_ztest((m_st, m_gr), (n_st, n_gr), value=0, alternative='larger')\n",
        "_, p3 = proportions_ztest((m_st, m_nw), (n_st, n_nw), value=0, alternative='larger')\n",
        "\n",
        "pval = np.array([p1,p2,p3])\n",
        "pval"
      ],
      "metadata": {
        "colab": {
          "base_uri": "https://localhost:8080/"
        },
        "id": "sPlzeq_v_7Hs",
        "outputId": "7d12457a-6e7f-4464-d3c6-ffe4777ec4bb"
      },
      "execution_count": 5,
      "outputs": [
        {
          "output_type": "execute_result",
          "data": {
            "text/plain": [
              "array([0.03008672, 0.24343199, 0.67209806])"
            ]
          },
          "metadata": {},
          "execution_count": 5
        }
      ]
    },
    {
      "cell_type": "markdown",
      "source": [
        "Метод Бонферрони"
      ],
      "metadata": {
        "id": "MZW1DpZhWgs-"
      }
    },
    {
      "cell_type": "code",
      "source": [
        "pval > 0.05/3"
      ],
      "metadata": {
        "colab": {
          "base_uri": "https://localhost:8080/"
        },
        "id": "giYeMyJRBClc",
        "outputId": "da4f6fc1-6bba-40d2-cd5f-b72b6afc14a4"
      },
      "execution_count": 6,
      "outputs": [
        {
          "output_type": "execute_result",
          "data": {
            "text/plain": [
              "array([ True,  True,  True])"
            ]
          },
          "metadata": {},
          "execution_count": 6
        }
      ]
    },
    {
      "cell_type": "code",
      "source": [
        "from statsmodels.sandbox.stats.multicomp import multipletests\n",
        "\n",
        "rejected, p_corrected, _, _ = multipletests(pval,\n",
        "                                            alpha = 0.05,\n",
        "                                            method = 'bonferroni')\n",
        "p_corrected"
      ],
      "metadata": {
        "colab": {
          "base_uri": "https://localhost:8080/"
        },
        "id": "tvNT59U2FsAN",
        "outputId": "1cec2b53-6d26-41ed-c51d-3f25a809a687"
      },
      "execution_count": 7,
      "outputs": [
        {
          "output_type": "execute_result",
          "data": {
            "text/plain": [
              "array([0.09026015, 0.73029598, 1.        ])"
            ]
          },
          "metadata": {},
          "execution_count": 7
        }
      ]
    },
    {
      "cell_type": "code",
      "source": [
        "p_corrected > 0.05"
      ],
      "metadata": {
        "id": "sLgfXxpxXBAE"
      },
      "execution_count": null,
      "outputs": []
    },
    {
      "cell_type": "markdown",
      "source": [
        "Метод Холма"
      ],
      "metadata": {
        "id": "xgk2xBRqWx3u"
      }
    },
    {
      "cell_type": "code",
      "source": [
        "from statsmodels.sandbox.stats.multicomp import multipletests\n",
        "\n",
        "rejected, p_corrected, _, _ = multipletests(pval,\n",
        "                                            alpha = 0.05,\n",
        "                                            method = 'holm')\n",
        "p_corrected"
      ],
      "metadata": {
        "colab": {
          "base_uri": "https://localhost:8080/"
        },
        "id": "tFeNWaaOW1M-",
        "outputId": "55244727-17c2-4189-b352-78d1558ac676"
      },
      "execution_count": 8,
      "outputs": [
        {
          "output_type": "execute_result",
          "data": {
            "text/plain": [
              "array([0.09026015, 0.48686399, 0.67209806])"
            ]
          },
          "metadata": {},
          "execution_count": 8
        }
      ]
    },
    {
      "cell_type": "code",
      "source": [
        "p_corrected > 0.05"
      ],
      "metadata": {
        "colab": {
          "base_uri": "https://localhost:8080/"
        },
        "id": "fli4qGFaW9Mx",
        "outputId": "c55abf96-99f3-48e9-8b22-9e8277a2f8b4"
      },
      "execution_count": 9,
      "outputs": [
        {
          "output_type": "execute_result",
          "data": {
            "text/plain": [
              "array([ True,  True,  True])"
            ]
          },
          "metadata": {},
          "execution_count": 9
        }
      ]
    }
  ]
}